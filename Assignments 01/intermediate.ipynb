{
  "nbformat": 4,
  "nbformat_minor": 0,
  "metadata": {
    "colab": {
      "provenance": [],
      "authorship_tag": "ABX9TyN99wZmYSOWrowqCrBiVB/E",
      "include_colab_link": true
    },
    "kernelspec": {
      "name": "python3",
      "display_name": "Python 3"
    },
    "language_info": {
      "name": "python"
    }
  },
  "cells": [
    {
      "cell_type": "markdown",
      "metadata": {
        "id": "view-in-github",
        "colab_type": "text"
      },
      "source": [
        "<a href=\"https://colab.research.google.com/github/BushraKhan001/4-Assignments-Q3/blob/main/intermediate.ipynb\" target=\"_parent\"><img src=\"https://colab.research.google.com/assets/colab-badge.svg\" alt=\"Open In Colab\"/></a>"
      ]
    },
    {
      "cell_type": "markdown",
      "source": [
        "# **High Low Game b/w computer and user**"
      ],
      "metadata": {
        "id": "vNARn8Ryli7x"
      }
    },
    {
      "cell_type": "code",
      "source": [
        "import random\n",
        "\n",
        "numbers_rounds = 5\n",
        "\n",
        "def main():\n",
        "    print(\"Hello gamer! Welcome to the High Low Game.\")\n",
        "    your_score = 0\n",
        "\n",
        "    for i in range(numbers_rounds):\n",
        "        print(\"Round:\", i + 1)\n",
        "        computer_num = random.randint(1, 100)\n",
        "        your_num = random.randint(1, 100)\n",
        "        print(\"Your number is:\", your_num)\n",
        "\n",
        "        choice = input(\"What do you think? Is your number 'higher' or 'lower' than the computer's?: \")\n",
        "        higher_and_correct = choice == \"higher\" and your_num > computer_num\n",
        "        lower_and_correct = choice == \"lower\" and your_num < computer_num\n",
        "\n",
        "        if higher_and_correct or lower_and_correct:\n",
        "            print(\"You were right! The computer's number was\", computer_num)\n",
        "            your_score += 1\n",
        "        else:\n",
        "            print(\"Aww, that's incorrect. The computer's number was\", computer_num)\n",
        "\n",
        "        print(\"Your score is now\", your_score)\n",
        "        print()\n",
        "\n",
        "    print(\"Thanks for playing!\")\n",
        "\n",
        "if __name__ == \"__main__\":\n",
        "    main()\n"
      ],
      "metadata": {
        "id": "IrOZACXPRHSN",
        "colab": {
          "base_uri": "https://localhost:8080/"
        },
        "outputId": "da0b4914-b387-4de0-a1e9-37b18ada2c76"
      },
      "execution_count": null,
      "outputs": [
        {
          "output_type": "stream",
          "name": "stdout",
          "text": [
            "Hello gamer! Welcome to the High Low Game.\n",
            "Round: 1\n",
            "Your number is: 77\n",
            "What do you think? Is your number 'higher' or 'lower' than the computer's?: higher\n",
            "Aww, that's incorrect. The computer's number was 86\n",
            "Your score is now 0\n",
            "\n",
            "Round: 2\n",
            "Your number is: 58\n",
            "What do you think? Is your number 'higher' or 'lower' than the computer's?: lower\n",
            "Aww, that's incorrect. The computer's number was 10\n",
            "Your score is now 0\n",
            "\n",
            "Round: 3\n",
            "Your number is: 20\n",
            "What do you think? Is your number 'higher' or 'lower' than the computer's?: lower\n",
            "You were right! The computer's number was 25\n",
            "Your score is now 1\n",
            "\n",
            "Round: 4\n",
            "Your number is: 26\n",
            "What do you think? Is your number 'higher' or 'lower' than the computer's?: lower\n",
            "Aww, that's incorrect. The computer's number was 1\n",
            "Your score is now 1\n",
            "\n",
            "Round: 5\n",
            "Your number is: 80\n",
            "What do you think? Is your number 'higher' or 'lower' than the computer's?: lower\n",
            "Aww, that's incorrect. The computer's number was 61\n",
            "Your score is now 1\n",
            "\n",
            "Thanks for playing!\n"
          ]
        }
      ]
    },
    {
      "cell_type": "markdown",
      "source": [
        "# **Planetary Weight Calculator**"
      ],
      "metadata": {
        "id": "s7MXSUZpRHIV"
      }
    },
    {
      "cell_type": "code",
      "source": [
        "gravity_constants = {\n",
        "\"Mercury\": 0.38,\n",
        "\"Venus\": 0.91,\n",
        "\"Mars\": 0.38,\n",
        "\"Jupiter\": 2.34,\n",
        "\"Saturn\": 1.06,\n",
        "\"Uranus\": 0.92,\n",
        "\"Neptune\": 1.19\n",
        "}\n",
        "\n",
        "earth_weight = float(input(\"Enter your weight on Earth (kg): \"))\n",
        "planet = input(\"Enter a planet: \")\n",
        "\n",
        "if planet == \"Mercury\":\n",
        "    gravity_constant = gravity_constants[\"Mercury\"]\n",
        "elif planet == \"Venus\":\n",
        "    gravity_constant = gravity_constants[\"Venus\"]\n",
        "elif planet == \"Mars\":\n",
        "    gravity_constant = gravity_constants[\"Mars\"]\n",
        "elif planet == \"Jupiter\":\n",
        "    gravity_constant = gravity_constants[\"Jupiter\"]\n",
        "elif planet == \"Saturn\":\n",
        "    gravity_constant = gravity_constants[\"Saturn\"]\n",
        "elif planet == \"Uranus\":\n",
        "    gravity_constant = gravity_constants[\"Uranus\"]\n",
        "else:\n",
        "    gravity_constant = gravity_constants[\"Neptune\"]\n",
        "\n",
        "planetary_weight = earth_weight * gravity_constant\n",
        "rounded_planetary_weight = round(planetary_weight, 2)\n",
        "print(\"The equivalent weight on \" + planet + \": \" + str(rounded_planetary_weight) + \" kg\")\n"
      ],
      "metadata": {
        "id": "3Gcmkqu_RG-z",
        "colab": {
          "base_uri": "https://localhost:8080/"
        },
        "outputId": "a75fa599-7805-4839-d5ea-97e40ca09c92"
      },
      "execution_count": null,
      "outputs": [
        {
          "output_type": "stream",
          "name": "stdout",
          "text": [
            "Enter your weight on Earth (kg): 50\n",
            "Enter a planet: Mars\n",
            "The equivalent weight on Mars: 19.0 kg\n"
          ]
        }
      ]
    },
    {
      "cell_type": "markdown",
      "source": [
        "# **Problem # 1: List Practice**"
      ],
      "metadata": {
        "id": "TE0u8YBQRGfJ"
      }
    },
    {
      "cell_type": "code",
      "source": [
        "# Define the initial list\n",
        "fruit_lst = ['apple', 'banana', 'orange']\n",
        "\n",
        "# Print the length of the list\n",
        "lst_length = len(fruit_lst)\n",
        "print(lst_length)\n",
        "\n",
        "# Add 'mango' at the end of the list\n",
        "fruit_lst.append('mango')\n",
        "# Remove one fruit from list\n",
        "fruit_lst.remove(\"apple\")\n",
        "\n",
        "# Print the updated list\n",
        "for fruit in fruit_lst:\n",
        "    print(fruit)\n"
      ],
      "metadata": {
        "id": "tS_lFZ8uRGU2",
        "colab": {
          "base_uri": "https://localhost:8080/"
        },
        "outputId": "7a5e24be-15f2-44ea-d69e-d25d02d9a6a7"
      },
      "execution_count": null,
      "outputs": [
        {
          "output_type": "stream",
          "name": "stdout",
          "text": [
            "3\n",
            "banana\n",
            "orange\n",
            "mango\n"
          ]
        }
      ]
    },
    {
      "cell_type": "markdown",
      "source": [
        "# **Problem # 2: Index Game**"
      ],
      "metadata": {
        "id": "-iwEJJgvRG0g"
      }
    },
    {
      "cell_type": "code",
      "source": [
        "def access_element(lst, index):\n",
        "    try:\n",
        "        return lst[index]\n",
        "    except IndexError:\n",
        "        return \"Index out of range.\"\n",
        "\n",
        "def modify_element(lst, index, new_value):\n",
        "    try:\n",
        "        lst[index] = new_value\n",
        "        return lst\n",
        "    except IndexError:\n",
        "        return \"Index out of range.\"\n",
        "\n",
        "def slice_list(lst, start, end):\n",
        "    try:\n",
        "        return lst[start:end]\n",
        "    except IndexError:\n",
        "        return \"Invalid indices.\"\n",
        "\n",
        "def index_game():\n",
        "    lst = [1, 2, 3, 4, 5]  # Example list\n",
        "    print(\"Current list:\", lst)\n",
        "    print(\"Choose an operation: access, modify, slice\")\n",
        "    operation = input(\"Enter operation: \")\n",
        "\n",
        "    if operation == \"access\":\n",
        "        index = int(input(\"Enter index to access: \"))\n",
        "        print(access_element(lst, index))\n",
        "    elif operation == \"modify\":\n",
        "        index = int(input(\"Enter index to modify: \"))\n",
        "        new_value = input(\"Enter new value: \")\n",
        "        print(modify_element(lst, index, new_value))\n",
        "    elif operation == \"slice\":\n",
        "        start = int(input(\"Enter start index: \"))\n",
        "        end = int(input(\"Enter end index: \"))\n",
        "        print(slice_list(lst, start, end))\n",
        "    else:\n",
        "        print(\"Invalid operation.\")\n",
        "\n",
        "index_game()\n"
      ],
      "metadata": {
        "id": "2Hgc9d05RGp4",
        "colab": {
          "base_uri": "https://localhost:8080/"
        },
        "outputId": "d85ea386-64c7-4cc8-c252-eb0008cd5555"
      },
      "execution_count": null,
      "outputs": [
        {
          "output_type": "stream",
          "name": "stdout",
          "text": [
            "Current list: [1, 2, 3, 4, 5]\n",
            "Choose an operation: access, modify, slice\n",
            "Enter operation: access\n",
            "Enter index to access: 0\n",
            "1\n"
          ]
        }
      ]
    }
  ]
}