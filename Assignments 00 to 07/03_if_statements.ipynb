{
  "nbformat": 4,
  "nbformat_minor": 0,
  "metadata": {
    "colab": {
      "provenance": [],
      "authorship_tag": "ABX9TyPFNL7oPO9UDpCj7jeAxAKO",
      "include_colab_link": true
    },
    "kernelspec": {
      "name": "python3",
      "display_name": "Python 3"
    },
    "language_info": {
      "name": "python"
    }
  },
  "cells": [
    {
      "cell_type": "markdown",
      "metadata": {
        "id": "view-in-github",
        "colab_type": "text"
      },
      "source": [
        "<a href=\"https://colab.research.google.com/github/BushraKhan001/4-Assignments-Q3/blob/main/03_if_statements.ipynb\" target=\"_parent\"><img src=\"https://colab.research.google.com/assets/colab-badge.svg\" alt=\"Open In Colab\"/></a>"
      ]
    },
    {
      "cell_type": "markdown",
      "source": [
        "# **01. Print events**"
      ],
      "metadata": {
        "id": "XoJIMaEHYTjL"
      }
    },
    {
      "cell_type": "code",
      "execution_count": null,
      "metadata": {
        "id": "2Zredo2wYSc4"
      },
      "outputs": [],
      "source": [
        "def main():\n",
        "    # This for-loop start at 0 and counts up to 19 (for a total of 20 numbers)\n",
        "    for i in range(20):\n",
        "        print(i * 2)  # Use the 'i' value inside the for-loop\n",
        "\n",
        "# Call the main function when \"run\", no need to edit anything below!\n",
        "if __name__ == \"__main__\":\n",
        "    main()"
      ]
    },
    {
      "cell_type": "markdown",
      "source": [
        "# **02. Internaional voting age**"
      ],
      "metadata": {
        "id": "C2y-kgaoYdWX"
      }
    },
    {
      "cell_type": "code",
      "source": [
        "Peturksbouipo: int = 16\n",
        "Satanlu: int = 24\n",
        "Myengua: int = 48\n",
        "\n",
        "def main():\n",
        "    # Get the user's age input\n",
        "    user_age = int(input(\"How old are you? \"))\n",
        "\n",
        "    # Check if the user can vote in Peturksbouipo\n",
        "    if user_age >= Peturksbouipo:\n",
        "        print(f\"You can vote in Peturksbouipo where the voting age is {Peturksbouipo} \")\n",
        "    else:\n",
        "        print(f\"You cannot vote in Peturksbouipo where the voting age is {Peturksbouipo}\")\n",
        "\n",
        "    # Check if the user can vote in Stanlau\n",
        "    if user_age >= Satanlu:\n",
        "        print(f\"You can vote in Stanlau where the voting age is {Satanlu}\")\n",
        "    else:\n",
        "        print(f\"You cannot vote in Stanlau where the voting age is {Satanlu}\")\n",
        "\n",
        "    # Check if user can vote in Mayengua\n",
        "    if user_age >= Myengua:\n",
        "        print(f\"You can vote in Mayengua where the voting age is {Myengua} \")\n",
        "    else:\n",
        "        print(f\"You cannot vote in Mayengua where the voting age is {Myengua} \")\n",
        "\n",
        "\n",
        "\n",
        "\"_name_\" == \"_main_\"\n",
        "main()\n"
      ],
      "metadata": {
        "colab": {
          "base_uri": "https://localhost:8080/"
        },
        "id": "URXvgpW8v8Gd",
        "outputId": "48def43e-c284-4532-e228-0adc70a879e2"
      },
      "execution_count": null,
      "outputs": [
        {
          "output_type": "stream",
          "name": "stdout",
          "text": [
            "How old are you? 18\n",
            "You can vote in Peturksbouipo where the voting age is 16 \n",
            "You cannot vote in Stanlau where the voting age is 24\n",
            "You cannot vote in Mayengua where the voting age is 48 \n"
          ]
        }
      ]
    },
    {
      "cell_type": "markdown",
      "source": [
        "# **03. Leap year**"
      ],
      "metadata": {
        "id": "ii5W04AYvsvR"
      }
    },
    {
      "cell_type": "code",
      "source": [
        "def main():\n",
        "    # Get the year to check from the user\n",
        "    year = int(input('Please input a year: '))\n",
        "\n",
        "    if year % 4 == 0:  # Checking whether the provided year is evenly divisibly by 4\n",
        "        if year % 100 == 0:  # Checking whether the provided year is evenly divisibly by 100\n",
        "            if year % 400 == 0:  # Checking whether the provided year is evenly divisibly by 400\n",
        "                print(\"That's a leap year!\")\n",
        "            else:  # (Not divisible by 400)\n",
        "                print(\"That's not a leap year.\")\n",
        "        else:  # (Not divisible by 100)\n",
        "            print(\"That's a leap year!\")\n",
        "    else:  # (Not divisible by 4)\n",
        "        print(\"That's not a leap year.\")\n",
        "\n",
        "\n",
        "# There is no need to edit code beyond this point\n",
        "\n",
        "if __name__ == '__main__':\n",
        "    main()"
      ],
      "metadata": {
        "colab": {
          "base_uri": "https://localhost:8080/"
        },
        "id": "vfDnhk_xv8sE",
        "outputId": "58cac753-1b9f-4d58-b0fb-3b0c658d7b57"
      },
      "execution_count": null,
      "outputs": [
        {
          "output_type": "stream",
          "name": "stdout",
          "text": [
            "Please input a year: 2024\n",
            "That's a leap year!\n"
          ]
        }
      ]
    },
    {
      "cell_type": "markdown",
      "source": [
        "# **04. Tall enough to ride**"
      ],
      "metadata": {
        "id": "1JqE55QvvvpH"
      }
    },
    {
      "cell_type": "code",
      "source": [
        "eligibilty_height = 50\n",
        "\n",
        "def main():\n",
        " height = float(input(\"How tall are you? \"))\n",
        "\n",
        " if height >= eligibilty_height:\n",
        "  print(\"You are allowed to ride.\")\n",
        "\n",
        " else:\n",
        "  print(\"Your height is short so you are not allowed.\")\n",
        "\n",
        "\"_name_\" == \"_main\"\n",
        "main()"
      ],
      "metadata": {
        "colab": {
          "base_uri": "https://localhost:8080/"
        },
        "id": "fQdssoVDv9U2",
        "outputId": "9c2c4de8-b5cc-433d-9e8e-27c126f58027"
      },
      "execution_count": null,
      "outputs": [
        {
          "output_type": "stream",
          "name": "stdout",
          "text": [
            "How tall are you?70\n",
            "You are allowed to ride\n"
          ]
        }
      ]
    },
    {
      "cell_type": "markdown",
      "source": [
        "# **05. Random numbers**"
      ],
      "metadata": {
        "id": "u8WjSGDCv2A9"
      }
    },
    {
      "cell_type": "code",
      "source": [
        "import random\n",
        "\n",
        "for _ in range(10):\n",
        " random_numbers = random.randint(1, 100)\n",
        " print(random_numbers, end=\" \")\n",
        "\n"
      ],
      "metadata": {
        "colab": {
          "base_uri": "https://localhost:8080/"
        },
        "id": "-NJzMgH3v69D",
        "outputId": "03f25357-14ca-4c89-9854-2bfb7c856139"
      },
      "execution_count": null,
      "outputs": [
        {
          "output_type": "stream",
          "name": "stdout",
          "text": [
            "59 41 20 90 79 57 76 67 80 46 "
          ]
        }
      ]
    }
  ]
}