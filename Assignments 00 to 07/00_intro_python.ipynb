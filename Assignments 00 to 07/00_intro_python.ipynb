{
  "nbformat": 4,
  "nbformat_minor": 0,
  "metadata": {
    "colab": {
      "provenance": [],
      "authorship_tag": "ABX9TyOCOOlFDKQ7DqabCR1sGp3s",
      "include_colab_link": true
    },
    "kernelspec": {
      "name": "python3",
      "display_name": "Python 3"
    },
    "language_info": {
      "name": "python"
    }
  },
  "cells": [
    {
      "cell_type": "markdown",
      "metadata": {
        "id": "view-in-github",
        "colab_type": "text"
      },
      "source": [
        "<a href=\"https://colab.research.google.com/github/BushraKhan001/4-Assignments-Q3/blob/main/00_intro_python.ipynb\" target=\"_parent\"><img src=\"https://colab.research.google.com/assets/colab-badge.svg\" alt=\"Open In Colab\"/></a>"
      ]
    },
    {
      "cell_type": "markdown",
      "source": [
        "# **01. Add Two Numbers**"
      ],
      "metadata": {
        "id": "3e4Hb7miwuqJ"
      }
    },
    {
      "cell_type": "code",
      "execution_count": null,
      "metadata": {
        "colab": {
          "base_uri": "https://localhost:8080/"
        },
        "id": "N36Se3u_aFVN",
        "outputId": "6f953b10-3f88-452b-86e7-88fe6aca4349"
      },
      "outputs": [
        {
          "output_type": "stream",
          "name": "stdout",
          "text": [
            "THis program add two intgers(number)\n",
            "Enter your first number: 3\n",
            "Enter your second number: 3\n",
            "the total of numbers is: 6\n"
          ]
        }
      ],
      "source": [
        "\n",
        "# Program: add2numbers\n",
        "\n",
        "\n",
        "def main():\n",
        "    print(\"THis program add two intgers(number)\")\n",
        "\n",
        "# Get user input first\n",
        "    num1: str = input(\"Enter your first number: \")\n",
        "    num1: int = int(num1)\n",
        "    num2 : str = input(\"Enter your second number: \")\n",
        "    num2: int = int(num2)\n",
        "\n",
        "# Calculate the total\n",
        "    total = num1 + num2\n",
        "\n",
        "# Print the result\n",
        "    print(f\"the total of numbers is: {total}\")\n",
        "\n",
        "# This ensures that the main function runs only when the script is executed directly.\n",
        "\"_name_\" == \"_main_\"\n",
        "main()\n",
        "\n",
        "\n",
        "\n"
      ]
    },
    {
      "cell_type": "markdown",
      "source": [
        "# **02. Agreement_bot**"
      ],
      "metadata": {
        "id": "PK2OplilKebX"
      }
    },
    {
      "cell_type": "code",
      "source": [
        "def main():\n",
        "    print(\"This program is for fill your blank with your favourite animal.\\n\")\n",
        "    animala: str = input(\"What's your favourite animal?? \")\n",
        "    print(f\"\\nMy favourit animal is a {animala}!\")\n",
        "\n",
        "\n",
        "if __name__ == '__main__':\n",
        "    main()"
      ],
      "metadata": {
        "colab": {
          "base_uri": "https://localhost:8080/"
        },
        "id": "7dYKdYt_-IhK",
        "outputId": "d4c27893-0bac-4289-d76c-d952c7d402a4"
      },
      "execution_count": null,
      "outputs": [
        {
          "output_type": "stream",
          "name": "stdout",
          "text": [
            "This program is for fill your blank with your favourite animal.\n",
            "\n",
            "What's your favourite animal?? Tiger\n",
            "\n",
            "My favourit animal is a Tiger!\n"
          ]
        }
      ]
    },
    {
      "cell_type": "markdown",
      "source": [
        "# **03. Fahrenheit To Celsius**"
      ],
      "metadata": {
        "id": "buAUyFzwMptS"
      }
    },
    {
      "cell_type": "code",
      "source": [
        "def temp():\n",
        "  print(\"Enter a teperature in Fahrenheit and I will convert it to Celsius  Yeah I will I will achieve...\\n\")\n",
        "  Fahrenheit_celsius = float(input(\"Enter a temperature in farenheit: \"))\n",
        "  degrees_celsius = (Fahrenheit_celsius - 32) * 5.0/9.0\n",
        "\n",
        "  print(f\"\\nYour temperature is converted in Celsius from {Fahrenheit_celsius}F  To  {degrees_celsius}C\")\n",
        "\n",
        "\"_name\" == \"_main_\"\n",
        "temp()"
      ],
      "metadata": {
        "colab": {
          "base_uri": "https://localhost:8080/"
        },
        "id": "dQAtNY3iM62D",
        "outputId": "22dbf9ae-0ecd-4edb-dcb4-3baaae178cb4"
      },
      "execution_count": null,
      "outputs": [
        {
          "output_type": "stream",
          "name": "stdout",
          "text": [
            "Enter a teperature in Fahrenheit and I will convert it to Celsius  Yeah I will I will achieve...\n",
            "\n",
            "Enter a temperature in farenheit: 76\n",
            "\n",
            "Your temperature is converted in Celsius from 76.0F  To  24.444444444444443C\n"
          ]
        }
      ]
    },
    {
      "cell_type": "markdown",
      "source": [
        "# **04. How old are they**"
      ],
      "metadata": {
        "id": "2ows64H8R9ky"
      }
    },
    {
      "cell_type": "code",
      "source": [
        "def age():\n",
        "  print(\"Tis program is about ages of friends.\")\n",
        "\n",
        "  Anton : int = 21\n",
        "  Beth : int = 6 + Anton  # 27\n",
        "  Chen : int = 20 + Beth  # 47\n",
        "  Drew : int =  Chen + Anton\n",
        "  Ethan : int = Chen\n",
        "\n",
        "  print(f\"Anton is {Anton} years old.\")\n",
        "  print(f\"Beth is {Beth} years old.\")\n",
        "  print(f\"Chen is {Chen} years old.\")\n",
        "  print(f\"Drew is {Drew} years old.\")\n",
        "  print(f\"Ethan is {Ethan} years old.\")\n",
        "\n",
        "\"_name_\" == \"_main_\"\n",
        "age()"
      ],
      "metadata": {
        "colab": {
          "base_uri": "https://localhost:8080/"
        },
        "id": "n0G7TKqfSE5Y",
        "outputId": "d4cfa7b4-a12e-4591-aa17-096c82945652"
      },
      "execution_count": null,
      "outputs": [
        {
          "output_type": "stream",
          "name": "stdout",
          "text": [
            "Tis program is about ages of friends.\n",
            "Anton is 21 years old.\n",
            "Beth is 27 years old.\n",
            "Chen is 47 years old.\n",
            "Drew is 68 years old.\n",
            "Ethan is 47 years old.\n"
          ]
        }
      ]
    },
    {
      "cell_type": "markdown",
      "source": [
        "# **05. Triangle parameter**"
      ],
      "metadata": {
        "id": "IIa799qpbSzg"
      }
    },
    {
      "cell_type": "code",
      "source": [
        "def main():\n",
        "    # Get the 3 side lengths of the triangle\n",
        "    side1: float = float(input(\"What is the length of side 1? \"))\n",
        "    side2: float = float(input(\"What is the length of side 2? \"))\n",
        "    side3: float = float(input(\"What is the length of side 3? \"))\n",
        "\n",
        "    # Print out the perimeter (sum of the sides) of the triangle, make sure to cast it to a str when concatenating!\n",
        "    print(\"The perimeter of the triangle is \" + str(side1 + side2 + side3))\n",
        "\n",
        "\n",
        "# There is no need to edit code beyond this point\n",
        "\n",
        "if __name__ == '__main__':\n",
        "    main()"
      ],
      "metadata": {
        "colab": {
          "base_uri": "https://localhost:8080/"
        },
        "id": "OGy46u3Hbfb7",
        "outputId": "7048f0bd-166f-4c2b-dc58-7d07d5f9d9d0"
      },
      "execution_count": null,
      "outputs": [
        {
          "output_type": "stream",
          "name": "stdout",
          "text": [
            "What is the length of side 1? 1\n",
            "What is the length of side 2? 1\n",
            "What is the length of side 3? 1\n",
            "The perimeter of the triangle is 3.0\n"
          ]
        }
      ]
    },
    {
      "cell_type": "markdown",
      "source": [
        "# **06. Square number**"
      ],
      "metadata": {
        "id": "Sx86dbEDlQRN"
      }
    },
    {
      "cell_type": "code",
      "source": [
        "def main():\n",
        "    num: float = float(input(\"Type a number to see its square: \")) # Make sure to cast the input to a float so we can do math with it!\n",
        "    print(str(num) + \" squared is \" + str(num ** 2)) # num * num is equivalent to num ** 2. The ** operator raises something to a power!\n",
        "\n",
        "\n",
        "# There is no need to edit code beyond this point\n",
        "\n",
        "if __name__ == '__main__':\n",
        "    main()"
      ],
      "metadata": {
        "colab": {
          "base_uri": "https://localhost:8080/"
        },
        "id": "S7R7r7WLlWl-",
        "outputId": "717e95de-82dc-4d34-ba96-f5d59758a4d1"
      },
      "execution_count": null,
      "outputs": [
        {
          "output_type": "stream",
          "name": "stdout",
          "text": [
            "Type a number to see its square: 7\n",
            "7.0 squared is 49.0\n"
          ]
        }
      ]
    }
  ]
}