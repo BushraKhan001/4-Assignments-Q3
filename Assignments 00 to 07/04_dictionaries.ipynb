{
  "nbformat": 4,
  "nbformat_minor": 0,
  "metadata": {
    "colab": {
      "provenance": [],
      "authorship_tag": "ABX9TyMoZ8cRW5fc12fdxmkwhNHw",
      "include_colab_link": true
    },
    "kernelspec": {
      "name": "python3",
      "display_name": "Python 3"
    },
    "language_info": {
      "name": "python"
    }
  },
  "cells": [
    {
      "cell_type": "markdown",
      "metadata": {
        "id": "view-in-github",
        "colab_type": "text"
      },
      "source": [
        "<a href=\"https://colab.research.google.com/github/BushraKhan001/4-Assignments-Q3/blob/main/04_dictionaries.ipynb\" target=\"_parent\"><img src=\"https://colab.research.google.com/assets/colab-badge.svg\" alt=\"Open In Colab\"/></a>"
      ]
    },
    {
      "cell_type": "markdown",
      "source": [
        "# **00. Count nums**"
      ],
      "metadata": {
        "id": "RGMuhgyOcS3V"
      }
    },
    {
      "cell_type": "code",
      "execution_count": null,
      "metadata": {
        "colab": {
          "base_uri": "https://localhost:8080/"
        },
        "id": "tIFEBm0Hb36l",
        "outputId": "c7ecd80e-894e-4af7-d63f-2dd465b71d0c"
      },
      "outputs": [
        {
          "output_type": "stream",
          "name": "stdout",
          "text": [
            "Enter a number: 1\n",
            "Enter a number: 1\n",
            "Enter a number: 2\n",
            "Enter a number: 2\n",
            "Enter a number: 2\n",
            "Enter a number: 3\n",
            "Enter a number: 5\n",
            "Enter a number: 6\n",
            "Enter a number: 6\n",
            "Enter a number: \n",
            "1 appears 2 times.\n",
            "2 appears 3 times.\n",
            "3 appears 1 times.\n",
            "5 appears 1 times.\n",
            "6 appears 2 times.\n"
          ]
        }
      ],
      "source": [
        "def get_user_numbers():\n",
        "\n",
        "    user_numbers = [] # Create an empty list to store numbers\n",
        "    while True:  # Infinite loop to keep asking for numbers\n",
        "        user_input = input(\"Enter a number: \")\n",
        "\n",
        "\n",
        "        if user_input == \"\":   # If input is empty, stop the loop\n",
        "            break\n",
        "\n",
        "        # convert the user input to an integer and add it to the list\n",
        "        num = int(user_input)  # Convert input to an integer\n",
        "        user_numbers.append(num)  # Add number to the list\n",
        "\n",
        "    return user_numbers   # Return the list of numbers\n",
        "\n",
        "def count_nums(num_lst):\n",
        "\n",
        "    num_dict = {}  # Create an empty dictionary to store counts\n",
        "    for num in num_lst:     # Loop through each number in the list\n",
        "        if num not in num_dict:\n",
        "            num_dict[num] = 1      # If number is new, set count to 1\n",
        "        else:\n",
        "            num_dict[num] += 1      #   If number already exists, increase count\n",
        "\n",
        "    return num_dict        # # Return the dictionary\n",
        "\n",
        "\n",
        "def print_counts(num_dict):\n",
        "\n",
        "    for num in num_dict:    # Loop through each number in the dictionary\n",
        "        print(str(num) + \" appears \" + str(num_dict[num]) + \" times.\")\n",
        "\n",
        "\n",
        "def main():\n",
        "\n",
        "    user_numbers = get_user_numbers()\n",
        "    num_dict = count_nums(user_numbers)\n",
        "    print_counts(num_dict)\n",
        "\n",
        "\n",
        "# Python boilerplate.\n",
        "if __name__ == '__main__':\n",
        "    main()\n"
      ]
    },
    {
      "cell_type": "markdown",
      "source": [
        "# **01. Phonebook**"
      ],
      "metadata": {
        "id": "AZ2G9h55cY5U"
      }
    },
    {
      "cell_type": "code",
      "source": [
        "def read_phone_numbers():\n",
        "    \"\"\"\n",
        "    Ask the user for names/numbers to story in a phonebook (dictionary).\n",
        "    Returns the phonebook.\n",
        "    \"\"\"\n",
        "    phonebook = {}                   # Create empty phonebook\n",
        "\n",
        "    while True:\n",
        "        name = input(\"Name: \")\n",
        "        if name == \"\":\n",
        "            break\n",
        "        number = input(\"Number: \")\n",
        "        phonebook[name] = number\n",
        "\n",
        "    return phonebook\n",
        "\n",
        "\n",
        "def print_phonebook(phonebook):\n",
        "    \"\"\"\n",
        "    Prints out all the names/numbers in the phonebook.\n",
        "    \"\"\"\n",
        "    for name in phonebook:\n",
        "        print(str(name) + \" -> \" + str(phonebook[name]))\n",
        "\n",
        "\n",
        "def lookup_numbers(phonebook):\n",
        "    \"\"\"\n",
        "    Allow the user to lookup phone numbers in the phonebook\n",
        "    by looking up the number associated with a name.\n",
        "    \"\"\"\n",
        "    while True:\n",
        "        name = input(\"Enter name to lookup: \")\n",
        "        if name == \"\":\n",
        "            break\n",
        "        if name not in phonebook:\n",
        "            print(name + \" is not in the phonebook\")\n",
        "        else:\n",
        "            print(phonebook[name])\n",
        "\n",
        "\n",
        "def main():\n",
        "    phonebook = read_phone_numbers()\n",
        "    print_phonebook(phonebook)\n",
        "    lookup_numbers(phonebook)\n",
        "\n",
        "\n",
        "# Python boilerplate.\n",
        "if __name__ == '__main__':\n",
        "    main()"
      ],
      "metadata": {
        "colab": {
          "base_uri": "https://localhost:8080/"
        },
        "id": "N6dzp263ccK3",
        "outputId": "59e74f9f-b3d1-4fc1-a402-6a47e4bc65a4"
      },
      "execution_count": null,
      "outputs": [
        {
          "name": "stdout",
          "output_type": "stream",
          "text": [
            "Name: bushra khan\n",
            "Number: o\n",
            "Name: \n",
            "bushra khan -> o\n",
            "Enter name to lookup: bushra khan\n",
            "o\n",
            "Enter name to lookup: \n"
          ]
        }
      ]
    },
    {
      "cell_type": "markdown",
      "source": [
        "# **02. Pop up shop**"
      ],
      "metadata": {
        "id": "5L5dauCfccoh"
      }
    },
    {
      "cell_type": "code",
      "source": [
        "def main():\n",
        "    fruits = {'apple': 1.5, 'durian': 50, 'jackfruit': 80, 'kiwi': 1, 'rambutan': 1.5, 'mango': 5}\n",
        "\n",
        "    total_cost = 0\n",
        "    for fruit_name in fruits:\n",
        "        price = fruits[fruit_name]\n",
        "        amount_bought = int(input(\"How many (\" + fruit_name + \") do you want to buy?: \"))\n",
        "        total_cost += (price * amount_bought)\n",
        "\n",
        "    print(\"Your total is $\" + str(total_cost))\n",
        "\n",
        "\n",
        "\\\n",
        "\n",
        "if __name__ == '__main__':\n",
        "    main()"
      ],
      "metadata": {
        "id": "0IP6GB3vchZU"
      },
      "execution_count": null,
      "outputs": []
    },
    {
      "cell_type": "markdown",
      "source": [
        "# **03. Powerful passwords**"
      ],
      "metadata": {
        "id": "2F8ZdT5hciGt"
      }
    },
    {
      "cell_type": "code",
      "source": [
        "from hashlib import sha256\n",
        "\n",
        "def login(email, stored_logins, password_to_check):\n",
        "    \"\"\"\n",
        "    Returns True if the hash of the password we are checking matches the one in stored_logins\n",
        "    for a specific email. Otherwise, returns False.\n",
        "\n",
        "    email: the email we are checking the password for\n",
        "    stored_logins: a dictionary pointing from an email to its hashed password\n",
        "    password_to_check: a password we want to test alongside the email to login with\n",
        "    \"\"\"\n",
        "\n",
        "    if stored_logins[email] == hash_password(password_to_check):\n",
        "        return True\n",
        "\n",
        "    return False\n",
        "\n",
        "# There is no need to edit code beyond this point\n",
        "\n",
        "def hash_password(password):\n",
        "    \"\"\"\n",
        "    Takes in a password and returns the SHA256 hashed value for that specific password.\n",
        "\n",
        "    Inputs:\n",
        "        password: the password we want\n",
        "\n",
        "    Outputs:\n",
        "        the hashed form of the input password\n",
        "    \"\"\"\n",
        "\n",
        "    return sha256(password.encode()).hexdigest()\n",
        "\n",
        "def main():\n",
        "    # stored_logins is a dictionary with emails as keys and hashed passwords as values\n",
        "    stored_logins = {\n",
        "        \"example@gmail.com\": \"5e884898da28047151d0e56f8dc6292773603d0d6aabbdd62a11ef721d1542d8\",\n",
        "        \"code_in_placer@cip.org\": \"973607a4ae7b4cf7d96a100b0fb07e8519cc4f70441d41214a9f811577bb06cc\",\n",
        "        \"student@stanford.edu\": \"882c6df720fd99f5eebb1581a1cf975625cea8a160283011c0b9512bb56c95fb\"\n",
        "    }\n",
        "\n",
        "    print(login(\"example@gmail.com\", stored_logins, \"word\"))\n",
        "    print(login(\"example@gmail.com\", stored_logins, \"password\"))\n",
        "\n",
        "    print(login(\"code_in_placer@cip.org\", stored_logins, \"Karel\"))\n",
        "    print(login(\"code_in_placer@cip.org\", stored_logins, \"karel\"))\n",
        "\n",
        "    print(login(\"student@stanford.edu\", stored_logins, \"password\"))\n",
        "    print(login(\"student@stanford.edu\", stored_logins, \"123!456?789\"))\n",
        "\n",
        "\n",
        "if __name__ == '__main__':\n",
        "    main()"
      ],
      "metadata": {
        "colab": {
          "base_uri": "https://localhost:8080/"
        },
        "id": "AumLs-Trcp2m",
        "outputId": "73e36d7e-3da6-4557-818d-ffe8556f393c"
      },
      "execution_count": null,
      "outputs": [
        {
          "output_type": "stream",
          "name": "stdout",
          "text": [
            "False\n",
            "True\n",
            "False\n",
            "True\n",
            "False\n",
            "True\n"
          ]
        }
      ]
    }
  ]
}