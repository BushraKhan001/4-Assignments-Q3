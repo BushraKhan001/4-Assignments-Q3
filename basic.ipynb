{
  "cells": [
    {
      "cell_type": "markdown",
      "metadata": {
        "id": "view-in-github",
        "colab_type": "text"
      },
      "source": [
        "<a href=\"https://colab.research.google.com/github/BushraKhan001/4-Assignments-Q3/blob/main/basic.ipynb\" target=\"_parent\"><img src=\"https://colab.research.google.com/assets/colab-badge.svg\" alt=\"Open In Colab\"/></a>"
      ]
    },
    {
      "cell_type": "markdown",
      "metadata": {
        "id": "uI1wFLG8P_m7"
      },
      "source": [
        "# **00. Joke bot**"
      ]
    },
    {
      "cell_type": "code",
      "execution_count": null,
      "metadata": {
        "colab": {
          "base_uri": "https://localhost:8080/"
        },
        "id": "VjdSJZTcP_XU",
        "outputId": "87367861-c718-44d7-f509-b03ceb1c950e"
      },
      "outputs": [
        {
          "name": "stdout",
          "output_type": "stream",
          "text": [
            "What do you want? jokes\n",
            "Here is a joke for you! Sophia is heading out to the grocery store. A programmer tells her: get a liter of milk, and if they have eggs, get 12. Sophia returns with 13 liters of milk. The programmer asks why and Sophia replies: 'because they had eggs'\n"
          ]
        }
      ],
      "source": [
        "PROMPT: str = \"What do you want? \"\n",
        "JOKE: str = \"Here is a joke for you! Sophia is heading out to the grocery store. A programmer tells her: get a liter of milk, and if they have eggs, get 12. Sophia returns with 13 liters of milk. The programmer asks why and Sophia replies: 'because they had eggs'\"\n",
        "SORRY: str = \"Sorry I only tell jokes.\"\n",
        "\n",
        "def main():\n",
        "    user_input = input(PROMPT).strip().lower()\n",
        "\n",
        "    if \"joke\" in user_input:\n",
        "        print(JOKE)\n",
        "    else:\n",
        "        print(SORRY)\n",
        "\n",
        "if __name__ == \"__main__\":\n",
        "    main()\n"
      ]
    },
    {
      "cell_type": "markdown",
      "metadata": {
        "id": "RwuxuSi6P_HH"
      },
      "source": [
        "# **01. Double it**"
      ]
    },
    {
      "cell_type": "code",
      "execution_count": null,
      "metadata": {
        "colab": {
          "base_uri": "https://localhost:8080/"
        },
        "id": "ZhMGJXccP-3y",
        "outputId": "723b87db-87d9-4686-f215-6cceae452629"
      },
      "outputs": [
        {
          "name": "stdout",
          "output_type": "stream",
          "text": [
            "Enter a number and then the result will be double. 5\n",
            "10\n"
          ]
        }
      ],
      "source": [
        "def main():\n",
        "\n",
        "  curr_value: int = int(input(\"Enter a number and then the result will be double. \"))\n",
        "  print(curr_value*2)\n",
        "\n",
        "\"_name_\" == \"_main_\"\n",
        "main()"
      ]
    },
    {
      "cell_type": "markdown",
      "metadata": {
        "id": "RJVDITiGP-re"
      },
      "source": [
        "# **02. Liftoff**"
      ]
    },
    {
      "cell_type": "code",
      "execution_count": null,
      "metadata": {
        "colab": {
          "base_uri": "https://localhost:8080/"
        },
        "id": "pwzW1rnYP-dv",
        "outputId": "03d44724-e144-4e85-cf23-739a5d315261"
      },
      "outputs": [
        {
          "name": "stdout",
          "output_type": "stream",
          "text": [
            "Liftoff!\n"
          ]
        }
      ],
      "source": [
        "def main():\n",
        "\n",
        "    for i in range(10, 1):\n",
        "        print(i)\n",
        "    print(\"Liftoff!\")\n",
        "\n",
        "if __name__ == \"__main__\":\n",
        "    main()"
      ]
    },
    {
      "cell_type": "markdown",
      "metadata": {
        "id": "KkY_t6ORP-Jw"
      },
      "source": [
        "# **03. Guess my number**"
      ]
    },
    {
      "cell_type": "code",
      "execution_count": null,
      "metadata": {
        "colab": {
          "background_save": true,
          "base_uri": "https://localhost:8080/",
          "height": 367
        },
        "id": "x2hyaEZuP4XO",
        "outputId": "da076ca1-4247-41cb-c52b-027c388a8fbe"
      },
      "outputs": [
        {
          "name": "stdout",
          "output_type": "stream",
          "text": [
            "Your guessed number is too low\n",
            "\n"
          ]
        }
      ],
      "source": [
        "import random\n",
        "\n",
        "def main():\n",
        "    guess = int(input(\"Enter a number between 0 to 99: \"))\n",
        "    num = random.randint(0, 99)\n",
        "\n",
        "    while guess != num:\n",
        "        if guess > num:\n",
        "            print(\"Your guessed number is too high\")\n",
        "        else:\n",
        "            print(\"Your guessed number is too low\")\n",
        "\n",
        "        print()\n",
        "        guess = int(input(\"Enter a new guess: \"))\n",
        "\n",
        "    print(\"Congratulations! You guessed the number.\")\n",
        "\n",
        "if __name__ == \"__main__\":\n",
        "    main()\n"
      ]
    },
    {
      "cell_type": "markdown",
      "metadata": {
        "id": "7ZomC2zeQVBs"
      },
      "source": [
        "# **04. Random numbers**"
      ]
    },
    {
      "cell_type": "code",
      "execution_count": null,
      "metadata": {
        "colab": {
          "base_uri": "https://localhost:8080/"
        },
        "id": "Erk99gJMQW80",
        "outputId": "6d9b0061-6901-44f3-f27e-888e27a74f2a"
      },
      "outputs": [
        {
          "name": "stdout",
          "output_type": "stream",
          "text": [
            "83\n",
            "29\n",
            "27\n",
            "67\n",
            "89\n",
            "64\n",
            "77\n",
            "71\n",
            "75\n",
            "87\n"
          ]
        }
      ],
      "source": [
        "import random\n",
        "n_numbers: int = 10\n",
        "MIN_VALUE: int = 1\n",
        "MAX_VALUE: int = 100\n",
        "\n",
        "def main():\n",
        "  for i in range(n_numbers):\n",
        "    print(random.randint(MIN_VALUE, MAX_VALUE))\n",
        "\n",
        "\n",
        "if __name__ == \"__main__\":\n",
        "  main()\n"
      ]
    }
  ],
  "metadata": {
    "colab": {
      "provenance": [],
      "authorship_tag": "ABX9TyOvhaeUz7inB2riQrEQS9b7",
      "include_colab_link": true
    },
    "kernelspec": {
      "display_name": "Python 3",
      "name": "python3"
    },
    "language_info": {
      "name": "python"
    }
  },
  "nbformat": 4,
  "nbformat_minor": 0
}