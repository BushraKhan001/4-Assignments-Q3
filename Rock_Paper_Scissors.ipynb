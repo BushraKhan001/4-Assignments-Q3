{
  "nbformat": 4,
  "nbformat_minor": 0,
  "metadata": {
    "colab": {
      "provenance": [],
      "authorship_tag": "ABX9TyNH7hP8PSXClI5jHb0LRyQX",
      "include_colab_link": true
    },
    "kernelspec": {
      "name": "python3",
      "display_name": "Python 3"
    },
    "language_info": {
      "name": "python"
    }
  },
  "cells": [
    {
      "cell_type": "markdown",
      "metadata": {
        "id": "view-in-github",
        "colab_type": "text"
      },
      "source": [
        "<a href=\"https://colab.research.google.com/github/BushraKhan001/4-Assignments-Q3/blob/main/Rock_Paper_Scissors.ipynb\" target=\"_parent\"><img src=\"https://colab.research.google.com/assets/colab-badge.svg\" alt=\"Open In Colab\"/></a>"
      ]
    },
    {
      "cell_type": "markdown",
      "source": [
        "# **Rock Paper Scissors Game**"
      ],
      "metadata": {
        "id": "cesuaOyr0fUn"
      }
    },
    {
      "cell_type": "code",
      "execution_count": null,
      "metadata": {
        "colab": {
          "base_uri": "https://localhost:8080/"
        },
        "id": "YTRM8v1_zDSt",
        "outputId": "ef93a7ae-6a0c-4305-f449-b29674cc2f2a"
      },
      "outputs": [
        {
          "output_type": "stream",
          "name": "stdout",
          "text": [
            "Enter rock, paper, scissors: rock\n",
            "Player wins!  Rock beats scissors!\n"
          ]
        }
      ],
      "source": [
        "import random\n",
        "\n",
        "# game choices\n",
        "choices = [\"rock\", \"paper\", \"scissors\"]\n",
        "\n",
        "# player choice\n",
        "player_choice = input (\"Enter rock, paper, scissors: \").lower()\n",
        "\n",
        "# computer choice\n",
        "computer_choice = random.choice(choices)\n",
        "\n",
        "# Winner decision\n",
        "\n",
        "if player_choice == computer_choice:\n",
        "    print(\" if the choice is same then game will be TIE!!!\")\n",
        "\n",
        "elif player_choice == \"rock\" and computer_choice == \"scissors\":\n",
        "    print(\"Player wins!  Rock beats scissors!\")\n",
        "\n",
        "elif player_choice == \"paper\" and \"computer_choice\" == \"rock\":\n",
        "    print(\"Player wins!  Paper beats rock!\")\n",
        "\n",
        "elif player_choice == \"scissors\" and computer_choice == \"paper\":\n",
        "    print(\"Player wins!  Scissors beats paper!\")\n",
        "\n",
        "else:\n",
        "    print(\"Computer wins!  Try again!\")\n",
        "\n"
      ]
    }
  ]
}