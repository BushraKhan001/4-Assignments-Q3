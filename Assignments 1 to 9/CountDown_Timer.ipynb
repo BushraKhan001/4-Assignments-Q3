{
  "nbformat": 4,
  "nbformat_minor": 0,
  "metadata": {
    "colab": {
      "provenance": [],
      "authorship_tag": "ABX9TyPE3l9QMyml+ziV8YVLZzpe",
      "include_colab_link": true
    },
    "kernelspec": {
      "name": "python3",
      "display_name": "Python 3"
    },
    "language_info": {
      "name": "python"
    }
  },
  "cells": [
    {
      "cell_type": "markdown",
      "metadata": {
        "id": "view-in-github",
        "colab_type": "text"
      },
      "source": [
        "<a href=\"https://colab.research.google.com/github/BushraKhan001/4-Assignments-Q3/blob/main/CountDown_Timer.ipynb\" target=\"_parent\"><img src=\"https://colab.research.google.com/assets/colab-badge.svg\" alt=\"Open In Colab\"/></a>"
      ]
    },
    {
      "cell_type": "markdown",
      "source": [
        "# **CountDown Timer**"
      ],
      "metadata": {
        "id": "bDISzhhQ3uqG"
      }
    },
    {
      "cell_type": "code",
      "execution_count": null,
      "metadata": {
        "id": "MBQPv_8e3cl2",
        "colab": {
          "base_uri": "https://localhost:8080/"
        },
        "outputId": "0fc1533a-6546-44e2-ec53-6a6475984c88"
      },
      "outputs": [
        {
          "output_type": "stream",
          "name": "stdout",
          "text": [
            "00:00 \n",
            "Time's up!\n"
          ]
        }
      ],
      "source": [
        "import time\n",
        "from IPython.display import clear_output  # Import for Colab support\n",
        "\n",
        "def countdown_timer(seconds):\n",
        "    while seconds > 0:\n",
        "        mins, secs = divmod(seconds, 60)  # Calculate minutes and seconds\n",
        "        time_format = '{:02d}:{:02d}'.format(mins, secs)  # MM:SS format\n",
        "\n",
        "        clear_output(wait=True)  # Clear previous output\n",
        "        print(time_format)  # Print new countdown time\n",
        "        time.sleep(1)  # Delay for 1 second\n",
        "        seconds -= 1\n",
        "\n",
        "    clear_output(wait=True)  # final output\n",
        "    print(\"00:00 \\nTime's up!\")  # Clear Final message\n",
        "\n",
        "# User input for timer\n",
        "total_seconds = int(input(\"Enter time in seconds for countdown: \"))\n",
        "countdown_timer(total_seconds)\n"
      ]
    }
  ]
}