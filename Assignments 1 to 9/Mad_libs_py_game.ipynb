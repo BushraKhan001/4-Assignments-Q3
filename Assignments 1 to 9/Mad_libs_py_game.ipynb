{
  "nbformat": 4,
  "nbformat_minor": 0,
  "metadata": {
    "colab": {
      "provenance": [],
      "authorship_tag": "ABX9TyMcHOI2SKRGySNaY22HEptt",
      "include_colab_link": true
    },
    "kernelspec": {
      "name": "python3",
      "display_name": "Python 3"
    },
    "language_info": {
      "name": "python"
    }
  },
  "cells": [
    {
      "cell_type": "markdown",
      "metadata": {
        "id": "view-in-github",
        "colab_type": "text"
      },
      "source": [
        "<a href=\"https://colab.research.google.com/github/BushraKhan001/4-Assignments-Q3/blob/main/Mad_libs_py_game.ipynb\" target=\"_parent\"><img src=\"https://colab.research.google.com/assets/colab-badge.svg\" alt=\"Open In Colab\"/></a>"
      ]
    },
    {
      "cell_type": "markdown",
      "source": [
        "## **Mad-Libs_Python-Game**"
      ],
      "metadata": {
        "id": "1X4a0kEBboyB"
      }
    },
    {
      "cell_type": "code",
      "execution_count": 2,
      "metadata": {
        "id": "bP798eTOaigk",
        "colab": {
          "base_uri": "https://localhost:8080/"
        },
        "outputId": "9bc9824c-a850-4b31-d601-0de394725ed1"
      },
      "outputs": [
        {
          "output_type": "stream",
          "name": "stdout",
          "text": [
            "Place1: e.g(park)park\n",
            "Place2: e.g(river)river\n",
            "Adjective1: e.g(great) great\n",
            "Adjective2: e.g(beatiful) beautiful\n",
            "Adjective3: e.g(sad) sad\n",
            "Adjective4: e.g(delicious) delicious\n",
            "Adjective5: e.g(peaceful) peaceful\n",
            "Animal: e.g(tiger)tiger\n",
            "Name1: e.g(pet)pet\n",
            "Name2: e.g(strawberry)strawberry\n",
            "Name3: e.g(tree)tree\n",
            "Verb fourth form: e.g(walking) walking\n",
            "Verb past tense1: e.g(picked) picked\n",
            "Verb past tense2: e.g(gave) gave\n",
            "Body part: e.g(head)head\n",
            "Food: e.g(sushi)sushi\n",
            "\n",
            " Day at the Park \n",
            "\n",
            "Today, I went to the park. It was a great day, so I decided to bring my pet with me.\n",
            "\n",
            "As I walked, I saw a beautiful tiger walking near the river. It looked so sad!\n",
            "\n",
            "Suddenly, a strawberry fell from the tree and landed on my head! I picked and gave\n",
            "away.\n",
            "\n",
            "After that, I ate a delicious sushi and felt so peaceful.\n",
            "\n",
            "It was a great day, and I can't wait to go back to the park again!\n",
            "\n"
          ]
        }
      ],
      "source": [
        "# take input from users\n",
        "\n",
        "#places\n",
        "place1 = input(\"Place1: e.g(park)\")\n",
        "place2 = input(\"Place2: e.g(river)\")\n",
        "\n",
        "#Adjective\n",
        "adjective1 = input(\"Adjective1: e.g(great) \")\n",
        "adjective2 = input(\"Adjective2: e.g(beatiful) \")\n",
        "adjective3 = input(\"Adjective3: e.g(sad) \")\n",
        "adjective4 = input(\"Adjective4: e.g(delicious) \")\n",
        "adjective5 = input(\"Adjective5: e.g(peaceful) \")\n",
        "\n",
        "#Animal\n",
        "animal = input(\"Animal: e.g(tiger)\")\n",
        "\n",
        "#noun\n",
        "noun1 = input(\"Name1: e.g(pet)\")\n",
        "noun2 = input(\"Name2: e.g(strawberry)\")\n",
        "noun3 = input(\"Name3: e.g(tree)\")\n",
        "\n",
        "#Verb\n",
        "verb_fourthform = input(\"Verb fourth form: e.g(walking) \")\n",
        "\n",
        "# Verb past tense\n",
        "verb_pastTense1 = input(\"Verb past tense1: e.g(picked) \")\n",
        "verb_pastTense2 = input(\"Verb past tense2: e.g(gave) \")\n",
        "\n",
        "# Other\n",
        "body_part = input(\"Body part: e.g(head)\")\n",
        "food = input(\"Food: e.g(sushi)\")\n",
        "\n",
        "\n",
        "# Print the story with blanks\n",
        "print(\"\\n Day at the Park \\n\")\n",
        "print(f\"Today, I went to the {place1}. It was a {adjective1} day, so I decided to bring my {noun1} with me.\\n\")\n",
        "print(f\"As I walked, I saw a {adjective2} {animal} {verb_fourthform} near the {place2}. It looked so {adjective3}!\\n\")\n",
        "print(f\"Suddenly, a {noun2} fell from the {noun3} and landed on my {body_part}! I {verb_pastTense1} and {verb_pastTense2}\")\n",
        "print(f\"away.\\n\")\n",
        "print(f\"After that, I ate a {adjective4} {food} and felt so {adjective5}.\\n\")\n",
        "print(f\"It was a {adjective1} day, and I can't wait to go back to the {place1} again!\\n\")\n",
        "\n"
      ]
    }
  ]
}