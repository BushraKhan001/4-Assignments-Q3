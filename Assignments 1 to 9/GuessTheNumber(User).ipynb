{
  "nbformat": 4,
  "nbformat_minor": 0,
  "metadata": {
    "colab": {
      "provenance": [],
      "authorship_tag": "ABX9TyO1A61TZVYoDsKHYvyYhDAz",
      "include_colab_link": true
    },
    "kernelspec": {
      "name": "python3",
      "display_name": "Python 3"
    },
    "language_info": {
      "name": "python"
    }
  },
  "cells": [
    {
      "cell_type": "markdown",
      "metadata": {
        "id": "view-in-github",
        "colab_type": "text"
      },
      "source": [
        "<a href=\"https://colab.research.google.com/github/BushraKhan001/4-Assignments-Q3/blob/main/GuessTheNumber(User).ipynb\" target=\"_parent\"><img src=\"https://colab.research.google.com/assets/colab-badge.svg\" alt=\"Open In Colab\"/></a>"
      ]
    },
    {
      "cell_type": "code",
      "execution_count": null,
      "metadata": {
        "colab": {
          "base_uri": "https://localhost:8080/"
        },
        "id": "78s5xObaqLcI",
        "outputId": "10e2bbb9-011b-4c44-8166-dfa0156ab2f4"
      },
      "outputs": [
        {
          "output_type": "stream",
          "name": "stdout",
          "text": [
            "Welcome to Guess the Number game.\n",
            "\n",
            "Guess the number between 1 to 50.\n",
            "\n"
          ]
        }
      ],
      "source": [
        "import random\n",
        "\n",
        "#Print welcome and provide info about game.\n",
        "print(\"Welcome to Guess the Number game.\\n\")\n",
        "print(\"Guess the number between 1 to 50.\\n\")\n",
        "\n",
        "# randint function\n",
        "number = random.randint(1, 50)\n",
        "\n",
        "# Use while loop\n",
        "while True:\n",
        "    guess = int(input(\"Please enter your guess number: \"))\n",
        "\n",
        "# Use if else conditions\n",
        "    if guess < number:\n",
        "        print(\"Your guessed number is too low.\")\n",
        "    elif guess > number:\n",
        "        print(\"Your guessed number is too high.\")\n",
        "    else:\n",
        "        print(\"Congrats!! Great Work\")\n",
        "        break\n"
      ]
    }
  ]
}