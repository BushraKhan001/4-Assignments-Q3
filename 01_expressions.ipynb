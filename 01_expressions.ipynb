{
  "nbformat": 4,
  "nbformat_minor": 0,
  "metadata": {
    "colab": {
      "provenance": [],
      "authorship_tag": "ABX9TyPUhtnyDWJAAbzSQHFQiPDV",
      "include_colab_link": true
    },
    "kernelspec": {
      "name": "python3",
      "display_name": "Python 3"
    },
    "language_info": {
      "name": "python"
    }
  },
  "cells": [
    {
      "cell_type": "markdown",
      "metadata": {
        "id": "view-in-github",
        "colab_type": "text"
      },
      "source": [
        "<a href=\"https://colab.research.google.com/github/BushraKhan001/4-Assignments-Q3/blob/main/01_expressions.ipynb\" target=\"_parent\"><img src=\"https://colab.research.google.com/assets/colab-badge.svg\" alt=\"Open In Colab\"/></a>"
      ]
    },
    {
      "cell_type": "markdown",
      "source": [
        "# **01_dicesimulator**"
      ],
      "metadata": {
        "id": "InAgiHvJl9Dk"
      }
    },
    {
      "cell_type": "code",
      "execution_count": null,
      "metadata": {
        "colab": {
          "base_uri": "https://localhost:8080/"
        },
        "id": "yOztebjGly0p",
        "outputId": "a22e7b9f-2e5c-4e79-a530-a4b000dab06f"
      },
      "outputs": [
        {
          "output_type": "stream",
          "name": "stdout",
          "text": [
            "die1 in main() starts as: 10\n",
            "Total of two dice: 9\n",
            "Total of two dice: 5\n",
            "Total of two dice: 10\n",
            "die1 in main() is: 10\n"
          ]
        }
      ],
      "source": [
        "\n",
        "# Import the random library which lets us simulate random things like dice!\n",
        "import random\n",
        "\n",
        "# Number of sides on each die to roll\n",
        "NUM_SIDES = 6\n",
        "\n",
        "def roll_dice():\n",
        "    \"\"\"\n",
        "    Simulates rolling two dice and prints their total\n",
        "    \"\"\"\n",
        "    die1: int = random.randint(1, NUM_SIDES)\n",
        "    die2: int = random.randint(1, NUM_SIDES)\n",
        "    total: int = die1 + die2\n",
        "    print(\"Total of two dice:\", total)\n",
        "\n",
        "def main():\n",
        "    die1: int = 10\n",
        "    print(\"die1 in main() starts as: \" + str(die1))\n",
        "    roll_dice()\n",
        "    roll_dice()\n",
        "    roll_dice()\n",
        "    print(\"die1 in main() is: \" + str(die1))\n",
        "\n",
        "# This provided line is required at the end of a Python file\n",
        "# to call the main() function.\n",
        "if __name__ == '__main__':\n",
        "    main()"
      ]
    },
    {
      "cell_type": "markdown",
      "source": [
        "# **02. E=mc2**"
      ],
      "metadata": {
        "id": "mW_3n9zSUBfl"
      }
    },
    {
      "cell_type": "code",
      "source": [
        "C: int = 299792458 # The value of speed of light.\n",
        "\n",
        "def main():\n",
        "  mass_in_kgs : float = float(input(\"Enter the number of mass in kilos: \"))\n",
        "  energy_in_joules : float = mass_in_kgs * (C**2)\n",
        "\n",
        "  # Display work to the user\n",
        "  print(\"m = \" + str(mass_in_kgs) + \" kg\")\n",
        "  print(\"C = \" + str(C) + \" m/s\\n\")\n",
        "\n",
        "  print(\"Formula of energy\")\n",
        "  print(\"e = m * C^2...\")\n",
        "  print(f\"e = {mass_in_kgs} * {C}*{2}\\n\")\n",
        "\n",
        "\n",
        "  print(f\"Your total value is: {energy_in_joules}\")\n",
        "\n",
        "\"_name_\" == \"_main_\"\n",
        "main()"
      ],
      "metadata": {
        "colab": {
          "base_uri": "https://localhost:8080/"
        },
        "id": "thukimESUJMx",
        "outputId": "5d3f971b-e1f9-4abc-bc84-05ddc179da24"
      },
      "execution_count": null,
      "outputs": [
        {
          "output_type": "stream",
          "name": "stdout",
          "text": [
            "Enter the number of mass in kilos: 5\n",
            "m = 5.0 kg\n",
            "C = 299792458 m/s\n",
            "\n",
            "Formula of energy\n",
            "e = m * C^2...\n",
            "e = 5.0 * 299792458*2\n",
            "\n",
            "Your total is: 4.493775893684088e+17\n"
          ]
        }
      ]
    },
    {
      "cell_type": "markdown",
      "source": [
        "# **03. Feet to Inches**"
      ],
      "metadata": {
        "id": "D7mO8onYZoON"
      }
    },
    {
      "cell_type": "code",
      "source": [
        "inches_per_feet : int = 12  # There 12 inches for one foot\n",
        "\n",
        "def main():\n",
        "  feet: float = float(input(\"Enter the number of feet: \"))\n",
        "  inches : float = feet * inches_per_feet\n",
        "  print(f\"The result is: {inches}\")\n",
        "\n",
        "\"_name_\" == \"_main_\"\n",
        "main()"
      ],
      "metadata": {
        "colab": {
          "base_uri": "https://localhost:8080/"
        },
        "id": "uVWH7XCUZnzX",
        "outputId": "d5aadad9-15a8-45c9-9803-a15e065df275"
      },
      "execution_count": null,
      "outputs": [
        {
          "output_type": "stream",
          "name": "stdout",
          "text": [
            "Enter the number of feet: 2\n",
            "The result is: 24.0\n"
          ]
        }
      ]
    },
    {
      "cell_type": "markdown",
      "source": [
        "# **04. Pythagorean Theorem**"
      ],
      "metadata": {
        "id": "Bd7fdFzFgcXR"
      }
    },
    {
      "cell_type": "code",
      "source": [
        "import math  # Import the math library so we can use the sqrt function\n",
        "\n",
        "def main():\n",
        "    # Get the two side lengths from the user and cast them to be numbers\n",
        "    ab: float = float(input(\"Enter the length of AB: \"))\n",
        "    ac: float = float(input(\"Enter the length of AC: \"))\n",
        "\n",
        "    # Calculate the hypotenuse using the two sides and print it out\n",
        "    bc: float = math.sqrt(ab**2 + ac**2)\n",
        "    print(\"The length of BC (the hypotenuse) is: \" + str(bc))\n",
        "\n",
        "\n",
        "# There is no need to edit code beyond this point\n",
        "\n",
        "if __name__ == '__main__':\n",
        "    main()"
      ],
      "metadata": {
        "id": "-OuWOJtfgj-v"
      },
      "execution_count": null,
      "outputs": []
    },
    {
      "cell_type": "markdown",
      "source": [
        "# **05. Remainder division**"
      ],
      "metadata": {
        "id": "NAib_PuULS9_"
      }
    },
    {
      "cell_type": "code",
      "source": [
        "def main():\n",
        "    # Get the numbers we want to divide\n",
        "    dividend: int = int(input(\"Please enter an integer to be divided: \"))\n",
        "    divisor: int = int(input(\"Please enter an integer to divide by: \"))\n",
        "\n",
        "    quotient: int = dividend // divisor  # Divide with no remainder/decimals (integer division)\n",
        "    remainder: int = dividend % divisor  # Get the remainder of the division (modulo)\n",
        "\n",
        "    print(\"The result of this division is \" + str(quotient) + \" with a remainder of \" + str(remainder))\n",
        "\n",
        "\n",
        "# There is no need to edit code beyond this point\n",
        "\n",
        "if __name__ == '__main__':\n",
        "    main()"
      ],
      "metadata": {
        "id": "FB7dd5IbLbLg",
        "outputId": "dac2819e-e274-4697-e69d-ba7d0135d366",
        "colab": {
          "base_uri": "https://localhost:8080/"
        }
      },
      "execution_count": null,
      "outputs": [
        {
          "output_type": "stream",
          "name": "stdout",
          "text": [
            "The result of this division is 3 with a remainder of 1\n"
          ]
        }
      ]
    },
    {
      "cell_type": "markdown",
      "source": [
        "# **06. Rolldice**"
      ],
      "metadata": {
        "id": "i47nbc-oVh4d"
      }
    },
    {
      "cell_type": "code",
      "source": [
        "import random\n",
        "\n",
        "roll_dice: int = 6\n",
        "\n",
        "def main():\n",
        "    # Setting a seed is useful for debugging (uncomment the line below to do so!)\n",
        "    random.seed(1)\n",
        "\n",
        "    # Roll die\n",
        "    die1: int = random.randint(1, NUM_SIDES)\n",
        "    die2: int = random.randint(1, NUM_SIDES)\n",
        "\n",
        "    # Get their total\n",
        "    total: int = die1 + die2\n",
        "\n",
        "    # Print out the results\n",
        "    print(\"Dice have\", NUM_SIDES, \"sides each.\")\n",
        "    print(\"First die:\", die1)\n",
        "    print(\"Second die:\", die2)\n",
        "    print(\"Total of two dice:\", total)\n"
      ],
      "metadata": {
        "id": "XThXlIPaVhfZ"
      },
      "execution_count": null,
      "outputs": []
    }
  ]
}