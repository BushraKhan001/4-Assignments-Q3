{
  "nbformat": 4,
  "nbformat_minor": 0,
  "metadata": {
    "colab": {
      "provenance": [],
      "authorship_tag": "ABX9TyOnagr9fTr8XoelqseQN+6A",
      "include_colab_link": true
    },
    "kernelspec": {
      "name": "python3",
      "display_name": "Python 3"
    },
    "language_info": {
      "name": "python"
    }
  },
  "cells": [
    {
      "cell_type": "markdown",
      "metadata": {
        "id": "view-in-github",
        "colab_type": "text"
      },
      "source": [
        "<a href=\"https://colab.research.google.com/github/BushraKhan001/4-Assignments-Q3/blob/main/07_information_flow.ipynb\" target=\"_parent\"><img src=\"https://colab.research.google.com/assets/colab-badge.svg\" alt=\"Open In Colab\"/></a>"
      ]
    },
    {
      "cell_type": "markdown",
      "source": [
        "# **00. Choosing returns**"
      ],
      "metadata": {
        "id": "jO54LDG31pvz"
      }
    },
    {
      "cell_type": "code",
      "source": [
        "ADULT_AGE : int = 18 # U.S. age\n",
        "\n",
        "def is_adult(age: int):\n",
        "    if age >= ADULT_AGE:\n",
        "        return True\n",
        "\n",
        "    return False\n",
        "\n",
        "\n",
        "def main():\n",
        "    age : str = int(input(\"How old is this person?: \"))\n",
        "    print(is_adult(age))\n",
        "\n",
        "\n",
        "if __name__ == \"__main__\":\n",
        "    main()"
      ],
      "metadata": {
        "id": "vY3449-U1phL",
        "colab": {
          "base_uri": "https://localhost:8080/"
        },
        "outputId": "dc7893f3-8573-44cb-8f31-ba40ac1d76b4"
      },
      "execution_count": null,
      "outputs": [
        {
          "output_type": "stream",
          "name": "stdout",
          "text": [
            "How old is this person?: 17\n",
            "False\n"
          ]
        }
      ]
    },
    {
      "cell_type": "markdown",
      "source": [
        "# **01. Greetings**"
      ],
      "metadata": {
        "id": "Eb6IAz5C1pSQ"
      }
    },
    {
      "cell_type": "code",
      "source": [
        "def main():\n",
        "    name : str = input(\"What's your name? \")\n",
        "    print(greet(name))\n",
        "\n",
        "# There is no need to edit code beyond this point\n",
        "\n",
        "def greet(name):\n",
        "    return \"Greetings \" + name + \"!\"\n",
        "\n",
        "if __name__ == '__main__':\n",
        "    main()\n"
      ],
      "metadata": {
        "id": "ugNjH07m1pGU",
        "colab": {
          "base_uri": "https://localhost:8080/"
        },
        "outputId": "4e237275-153a-41bf-b2ae-2d11f3f2b657"
      },
      "execution_count": null,
      "outputs": [
        {
          "output_type": "stream",
          "name": "stdout",
          "text": [
            "What's your name? Bushra Khan\n",
            "Greetings Bushra Khan!\n"
          ]
        }
      ]
    },
    {
      "cell_type": "markdown",
      "source": [
        "# **02. In range**"
      ],
      "metadata": {
        "id": "iKP8mpni1o8v"
      }
    },
    {
      "cell_type": "code",
      "source": [
        "def in_range(n, low, high):\n",
        "    \"\"\"\n",
        "    Returns True if n is between low and high, inclusive.\n",
        "    high is guaranteed to be greater than low.\n",
        "    \"\"\"\n",
        "    if n >= low and n <= high:\n",
        "        return True\n",
        "\n",
        "    # we could have also included an else statement, but since we are returning, it's fine without!\n",
        "    return False\n",
        "\n",
        "    # Example calls with print statements to show output\n",
        "print(in_range(5, 1, 10))   # True, because 5 is between 1 and 10\n",
        "print(in_range(0, 1, 10))   # False, because 0 is not between 1 and 10\n",
        "print(in_range(10, 1, 10))  # True, 10 is equal to the upper limit"
      ],
      "metadata": {
        "id": "StSyFh051oum",
        "colab": {
          "base_uri": "https://localhost:8080/"
        },
        "outputId": "4ee68a83-db36-49b2-d568-99bbe224a7bd"
      },
      "execution_count": null,
      "outputs": [
        {
          "output_type": "stream",
          "name": "stdout",
          "text": [
            "True\n",
            "False\n",
            "True\n"
          ]
        }
      ]
    },
    {
      "cell_type": "markdown",
      "source": [
        "# **03. In stock**"
      ],
      "metadata": {
        "id": "3jG4yg4S1oVU"
      }
    },
    {
      "cell_type": "code",
      "source": [
        "def main():\n",
        "\tfruit : str = input(\"Enter a fruit: \")\n",
        "\tstock = num_in_stock(fruit)\n",
        "\tif stock == 0:\n",
        "\t\tprint(\"This fruit is not in stock.\")\n",
        "\telse:\n",
        "\t\tprint(\"This fruit is in stock! Here is how many:\")\n",
        "\t\tprint(stock)\n",
        "\n",
        "\n",
        "\n",
        "def num_in_stock(fruit):\n",
        "\t\"\"\"\n",
        "\tThis function returns the number of fruit Sophia has in stock.\n",
        "\t\"\"\"\n",
        "\tif fruit == 'apple':\n",
        "\t\treturn 2\n",
        "\tif fruit == 'durian':\n",
        "\t\treturn 4\n",
        "\tif fruit == 'pear':\n",
        "\t\treturn 1000\n",
        "\telse:\n",
        "\t\t# this fruit is not in stock.\n",
        "\t\treturn 0\n",
        "\n",
        "\n",
        "if __name__ == '__main__':\n",
        "    main()"
      ],
      "metadata": {
        "id": "ZaDgBpni1oI6",
        "colab": {
          "base_uri": "https://localhost:8080/"
        },
        "outputId": "a4346dc7-eff9-4628-d9f3-0809fd7add23"
      },
      "execution_count": null,
      "outputs": [
        {
          "output_type": "stream",
          "name": "stdout",
          "text": [
            "Enter a fruit: mango\n",
            "This fruit is not in stock.\n"
          ]
        }
      ]
    },
    {
      "cell_type": "markdown",
      "source": [
        "# **04. Multiple returns**"
      ],
      "metadata": {
        "id": "UY7kbvCT1nwU"
      }
    },
    {
      "cell_type": "code",
      "execution_count": null,
      "metadata": {
        "id": "0uiNtZhjqnqL",
        "colab": {
          "base_uri": "https://localhost:8080/"
        },
        "outputId": "3f4939f8-1f2b-41e3-9ee9-abc5ada90219"
      },
      "outputs": [
        {
          "output_type": "stream",
          "name": "stdout",
          "text": [
            "What is your first name?: Bushra\n",
            "What is your last name?: Khan\n",
            "What is your email address?: abckhan@gmail.com\n",
            "Received the following user data: ('Bushra', 'Khan', 'abckhan@gmail.com')\n"
          ]
        }
      ],
      "source": [
        "def get_user_info():\n",
        "    first_name: str = input(\"What is your first name?: \")\n",
        "    last_name: str = input(\"What is your last name?: \")\n",
        "    email_address : str = input(\"What is your email address?: \")\n",
        "\n",
        "    return first_name, last_name, email_address\n",
        "\n",
        "\n",
        "def main():\n",
        "    user_data = get_user_info()\n",
        "    print(\"Received the following user data:\", user_data)\n",
        "\n",
        "if __name__ == \"__main__\":\n",
        "     main()"
      ]
    },
    {
      "cell_type": "markdown",
      "source": [
        "# **05. Subtract_7**"
      ],
      "metadata": {
        "id": "Wm5ollqr2KjR"
      }
    },
    {
      "cell_type": "code",
      "source": [
        "def main():\n",
        "\tnum: int = 7\n",
        "\tnum = subtract_seven(num)\n",
        "\tprint(\"this should be zero: \", num)\n",
        "\n",
        "def subtract_seven(num):\n",
        "\tnum = num - 7\n",
        "\treturn num\n",
        "\n",
        "\n",
        "if __name__ == '__main__':\n",
        "    main()"
      ],
      "metadata": {
        "id": "FYrizNQ42w_c",
        "colab": {
          "base_uri": "https://localhost:8080/"
        },
        "outputId": "4116ec09-8fef-474c-cf32-a18867ac8021"
      },
      "execution_count": null,
      "outputs": [
        {
          "output_type": "stream",
          "name": "stdout",
          "text": [
            "this should be zero:  0\n"
          ]
        }
      ]
    }
  ]
}