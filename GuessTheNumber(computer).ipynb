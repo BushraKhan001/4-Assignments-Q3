{
  "nbformat": 4,
  "nbformat_minor": 0,
  "metadata": {
    "colab": {
      "provenance": [],
      "authorship_tag": "ABX9TyPoZR7oAv31mm2GVvfmNd3B",
      "include_colab_link": true
    },
    "kernelspec": {
      "name": "python3",
      "display_name": "Python 3"
    },
    "language_info": {
      "name": "python"
    }
  },
  "cells": [
    {
      "cell_type": "markdown",
      "metadata": {
        "id": "view-in-github",
        "colab_type": "text"
      },
      "source": [
        "<a href=\"https://colab.research.google.com/github/BushraKhan001/4-Assignments-Q3/blob/main/GuessTheNumber(computer).ipynb\" target=\"_parent\"><img src=\"https://colab.research.google.com/assets/colab-badge.svg\" alt=\"Open In Colab\"/></a>"
      ]
    },
    {
      "cell_type": "markdown",
      "source": [
        "# **Guess The Number python Game (computer)**"
      ],
      "metadata": {
        "id": "KXzTr6TBh6TJ"
      }
    },
    {
      "cell_type": "code",
      "source": [
        "import random\n",
        "\n",
        "# Function to play the guessing game\n",
        "def guess_the_number():\n",
        "    print(\"Welcome to Guess the Number Game!\")\n",
        "    print(\"I'm thinking of a number between 1 and 100.\")\n",
        "    print(\"Try to guess it in as few attempts as possible.\\n\")\n",
        "\n",
        "    secret_number = random.randint(1, 100)\n",
        "    attempts_left = 7\n",
        "\n",
        "    # Generate loop\n",
        "    while attempts_left > 0:\n",
        "        print(f\"\\nYou have {attempts_left} attempts left.\")\n",
        "\n",
        "        try:\n",
        "            guess = int(input(\"Enter your guess: \"))\n",
        "        except ValueError:\n",
        "            print(\"Invalid input. Please enter a valid number.\")\n",
        "            continue\n",
        "\n",
        "        # Guess the secret number\n",
        "        if guess < secret_number:\n",
        "            print(\"Too low! Try again.\")\n",
        "        elif guess > secret_number:\n",
        "            print(\"Too high! Try again.\")\n",
        "        else:\n",
        "            print(f\"Congrats! You guessed the correct number in {7 - attempts_left + 1} tries!\")\n",
        "            return\n",
        "\n",
        "        attempts_left -= 1  # Decrease attempts\n",
        "\n",
        "    # Attempts are finished\n",
        "    print(f\"You have no more attempts left. The correct number was {secret_number}.\")\n",
        "\n",
        "# Call the function to start the game\n",
        "guess_the_number()"
      ],
      "metadata": {
        "id": "pviAGyAJxz1J",
        "colab": {
          "base_uri": "https://localhost:8080/"
        },
        "outputId": "ea1acc6b-2b7f-45af-dd8a-3fc3e0c957e5"
      },
      "execution_count": null,
      "outputs": [
        {
          "output_type": "stream",
          "name": "stdout",
          "text": [
            "Welcome to Guess the Number Game!\n",
            "I'm thinking of a number between 1 and 100.\n",
            "Try to guess it in as few attempts as possible.\n",
            "\n",
            "\n",
            "You have 7 attempts left.\n",
            "Enter your guess: 2\n",
            "Too low! Try again.\n",
            "\n",
            "You have 6 attempts left.\n",
            "Enter your guess: 3\n",
            "Too low! Try again.\n",
            "\n",
            "You have 5 attempts left.\n",
            "Enter your guess: 3\n",
            "Too low! Try again.\n",
            "\n",
            "You have 4 attempts left.\n",
            "Enter your guess: 3\n",
            "Too low! Try again.\n",
            "\n",
            "You have 3 attempts left.\n",
            "Enter your guess: 3\n",
            "Too low! Try again.\n",
            "\n",
            "You have 2 attempts left.\n",
            "Enter your guess: 3\n",
            "Too low! Try again.\n",
            "\n",
            "You have 1 attempts left.\n",
            "Enter your guess: 3\n",
            "Too low! Try again.\n",
            "You have no more attempts left. The correct number was 75.\n"
          ]
        }
      ]
    }
  ]
}