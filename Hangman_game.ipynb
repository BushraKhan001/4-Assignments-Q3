{
  "cells": [
    {
      "cell_type": "markdown",
      "metadata": {
        "id": "view-in-github",
        "colab_type": "text"
      },
      "source": [
        "<a href=\"https://colab.research.google.com/github/BushraKhan001/4-Assignments-Q3/blob/main/Hangman_game.ipynb\" target=\"_parent\"><img src=\"https://colab.research.google.com/assets/colab-badge.svg\" alt=\"Open In Colab\"/></a>"
      ]
    },
    {
      "cell_type": "markdown",
      "metadata": {
        "id": "FCVwd_BmgeXd"
      },
      "source": [
        "# **Hang Man Game**"
      ]
    },
    {
      "cell_type": "code",
      "source": [
        "import random\n",
        "\n",
        "# My words for user\n",
        "words = (\"python\", \"javascript\", \"typescript\", \"nextjs\", \"delulu\", \"client\", \"dollars\")\n",
        "\n",
        "# Choose a word from words randomly\n",
        "word = random.choice(words).lower()\n",
        "\n",
        "# Guess the letters by users\n",
        "guessed_letters = []\n",
        "\n",
        "# Total attempts of user\n",
        "turns = 10\n",
        "\n",
        "print(\"Hello! Welcome to Hangman!\")\n",
        "print(\"_ \" * len(word))  # Prints underscores for each letter in the word\n",
        "\n",
        "while turns > 0:\n",
        "    guess = input(\"\\nGuess a letter: \").lower()\n",
        "\n",
        "    # Validate input: only one letter and must be an alphabet\n",
        "    if len(guess) != 1 or not guess.isalpha():\n",
        "        print(\"Write one alphabet only!\")\n",
        "        continue\n",
        "\n",
        "    # Check if letter was already guessed\n",
        "    if guess in guessed_letters:\n",
        "        print(\"You already guessed this letter!\")\n",
        "        continue\n",
        "\n",
        "    guessed_letters.append(guess)\n",
        "\n",
        "    if guess in word:\n",
        "        print(\" Correct letter!\")\n",
        "    else:\n",
        "        turns -= 1\n",
        "        print(f\" Wrong! {turns} attempts left.\")\n",
        "\n",
        "    # Display the word with guessed letters\n",
        "    displayed_word = \"\".join([letter if letter in guessed_letters else \"_\" for letter in word])\n",
        "    print(\" \".join(displayed_word))  # Adds spaces for better visibility\n",
        "\n",
        "    # Check if the word is fully guessed\n",
        "    if \"_\" not in displayed_word:\n",
        "        print(f\"\\n Congratulations! The correct word is: {word}\")\n",
        "        break  #  Correctly inside the loop\n",
        "\n",
        "# If all attempts are used, print game over message\n",
        "if turns == 0:\n",
        "    print(f\"\\n Game Over! The correct word was: {word}\")\n"
      ],
      "metadata": {
        "id": "DOJoa67OD3A3"
      },
      "execution_count": null,
      "outputs": []
    }
  ],
  "metadata": {
    "colab": {
      "provenance": [],
      "authorship_tag": "ABX9TyPBR1+IJrA7az3qX4qCgy0P",
      "include_colab_link": true
    },
    "kernelspec": {
      "display_name": "Python 3",
      "name": "python3"
    },
    "language_info": {
      "name": "python"
    }
  },
  "nbformat": 4,
  "nbformat_minor": 0
}